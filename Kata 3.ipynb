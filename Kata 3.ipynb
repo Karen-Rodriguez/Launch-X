{
 "cells": [
  {
   "cell_type": "markdown",
   "metadata": {},
   "source": [
    "## Kata 3\n",
    "\n",
    "Un asteroide se acerca"
   ]
  },
  {
   "cell_type": "code",
   "execution_count": 3,
   "metadata": {},
   "outputs": [
    {
     "name": "stdout",
     "output_type": "stream",
     "text": [
      "Estamos seguros\n"
     ]
    }
   ],
   "source": [
    "asteroide = 49\n",
    "b = 25 #velocidad maxima\n",
    "\n",
    "if asteroide >= b:\n",
    "    print(\"Estamos seguros\")\n",
    "else:\n",
    "    print(\"PELIGRO. El asteroide se acerca\")"
   ]
  },
  {
   "cell_type": "markdown",
   "metadata": {},
   "source": [
    "Buscando un asteroide en el cielo"
   ]
  },
  {
   "cell_type": "code",
   "execution_count": 4,
   "metadata": {},
   "outputs": [
    {
     "name": "stdout",
     "output_type": "stream",
     "text": [
      "El asteroide está muy cerca y se podrá ver desde la Tierra\n"
     ]
    }
   ],
   "source": [
    "asteroide = 19\n",
    "b = 20 #velocidad en la que se alcanza a ver\n",
    "\n",
    "if asteroide > b:\n",
    "    print(\"El asteriode no se alcanza a ver desde la Tierra\")\n",
    "elif asteroide < b:\n",
    "    print(\"El asteroide está muy cerca y se podrá ver desde la Tierra\")\n",
    "else:\n",
    "    print(\"El asteroide se podrá ver desde la Tierra\")"
   ]
  },
  {
   "cell_type": "markdown",
   "metadata": {},
   "source": [
    "Advertencia según el tamaño y velocidad de un asteroide"
   ]
  },
  {
   "cell_type": "code",
   "execution_count": 5,
   "metadata": {},
   "outputs": [
    {
     "name": "stdout",
     "output_type": "stream",
     "text": [
      "El asteroide se podrá ver desde la Tierra\n"
     ]
    }
   ],
   "source": [
    "tamaño = 25\n",
    "velocidad = 30\n",
    "\n",
    "if tamaño > 25 and velocidad > 25:\n",
    "    print(\"PELIGRO. Un asteroide de tamaño considerable se acerca a alta velocidad\")\n",
    "elif velocidad >= 20:\n",
    "    print(\"El asteroide se podrá ver desde la Tierra\")\n",
    "elif tamaño < 25:\n",
    "    print(\"El asteroide se encuentra lejos\")\n",
    "else:\n",
    "    print(\"El asteroide se encuentra lejos\")"
   ]
  }
 ],
 "metadata": {
  "interpreter": {
   "hash": "09d23db429a878657d92eb3653924695b0cc4d9288aebe89a91e140d388cb6ba"
  },
  "kernelspec": {
   "display_name": "Python 3.10.2 64-bit",
   "language": "python",
   "name": "python3"
  },
  "language_info": {
   "codemirror_mode": {
    "name": "ipython",
    "version": 3
   },
   "file_extension": ".py",
   "mimetype": "text/x-python",
   "name": "python",
   "nbconvert_exporter": "python",
   "pygments_lexer": "ipython3",
   "version": "3.10.2"
  },
  "orig_nbformat": 4
 },
 "nbformat": 4,
 "nbformat_minor": 2
}
